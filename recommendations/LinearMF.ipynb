{
 "cells": [
  {
   "cell_type": "markdown",
   "metadata": {},
   "source": [
    "code in part inspired by: https://github.com/EthanRosenthal/torchmf"
   ]
  },
  {
   "cell_type": "code",
   "execution_count": 1,
   "metadata": {},
   "outputs": [],
   "source": [
    "import os\n",
    "import mxnet as mx\n",
    "from mxnet import gluon, nd, ndarray\n",
    "\n",
    "import pandas as pd\n",
    "import numpy as np"
   ]
  },
  {
   "cell_type": "code",
   "execution_count": 2,
   "metadata": {},
   "outputs": [],
   "source": [
    "data_path = '/home/ubuntu/mxnet-the-straight-dope/incubator-mxnet/example/recommenders/ml-100k/'\n",
    "num_emb = 64\n",
    "opt = 'Adam'\n",
    "lr = 0.02\n",
    "mmntm = 0.\n",
    "wd = 0.\n",
    "batch_size = 50\n",
    "ctx = mx.gpu(4)"
   ]
  },
  {
   "cell_type": "code",
   "execution_count": 3,
   "metadata": {},
   "outputs": [],
   "source": [
    "def download_ml_data(prefix):\n",
    "    if not os.path.exists(\"%s.zip\" % prefix):\n",
    "        print(\"Downloading MovieLens data: %s\" % prefix)\n",
    "        os.system(\"wget http://files.grouplens.org/datasets/movielens/%s.zip\" % prefix)\n",
    "        os.system(\"unzip {}.zip\" % prefix)    "
   ]
  },
  {
   "cell_type": "code",
   "execution_count": 4,
   "metadata": {},
   "outputs": [
    {
     "ename": "FileNotFoundError",
     "evalue": "[Errno 2] No such file or directory: '/home/ubuntu/mxnet-the-straight-dope/incubator-mxnet/example/recommenders/ml-100k/u.data'",
     "output_type": "error",
     "traceback": [
      "\u001b[0;31m---------------------------------------------------------------------------\u001b[0m",
      "\u001b[0;31mFileNotFoundError\u001b[0m                         Traceback (most recent call last)",
      "\u001b[0;32m<ipython-input-4-6c3c48a71b18>\u001b[0m in \u001b[0;36m<module>\u001b[0;34m()\u001b[0m\n\u001b[1;32m     10\u001b[0m             \u001b[0mmi\u001b[0m \u001b[0;34m=\u001b[0m \u001b[0mmax\u001b[0m\u001b[0;34m(\u001b[0m\u001b[0mmi\u001b[0m\u001b[0;34m,\u001b[0m \u001b[0mint\u001b[0m\u001b[0;34m(\u001b[0m\u001b[0mtks\u001b[0m\u001b[0;34m[\u001b[0m\u001b[0;36m1\u001b[0m\u001b[0;34m]\u001b[0m\u001b[0;34m)\u001b[0m\u001b[0;34m)\u001b[0m\u001b[0;34m\u001b[0m\u001b[0m\n\u001b[1;32m     11\u001b[0m     \u001b[0;32mreturn\u001b[0m \u001b[0mmu\u001b[0m \u001b[0;34m+\u001b[0m \u001b[0;36m1\u001b[0m\u001b[0;34m,\u001b[0m \u001b[0mmi\u001b[0m \u001b[0;34m+\u001b[0m \u001b[0;36m1\u001b[0m\u001b[0;34m\u001b[0m\u001b[0m\n\u001b[0;32m---> 12\u001b[0;31m \u001b[0mmax_users\u001b[0m\u001b[0;34m,\u001b[0m \u001b[0mmax_items\u001b[0m \u001b[0;34m=\u001b[0m \u001b[0mmax_id\u001b[0m\u001b[0;34m(\u001b[0m\u001b[0mdata_path\u001b[0m \u001b[0;34m+\u001b[0m \u001b[0;34m'u.data'\u001b[0m\u001b[0;34m)\u001b[0m\u001b[0;34m\u001b[0m\u001b[0m\n\u001b[0m",
      "\u001b[0;32m<ipython-input-4-6c3c48a71b18>\u001b[0m in \u001b[0;36mmax_id\u001b[0;34m(fname)\u001b[0m\n\u001b[1;32m      2\u001b[0m     \u001b[0mmu\u001b[0m \u001b[0;34m=\u001b[0m \u001b[0;36m0\u001b[0m\u001b[0;34m\u001b[0m\u001b[0m\n\u001b[1;32m      3\u001b[0m     \u001b[0mmi\u001b[0m \u001b[0;34m=\u001b[0m \u001b[0;36m0\u001b[0m\u001b[0;34m\u001b[0m\u001b[0m\n\u001b[0;32m----> 4\u001b[0;31m     \u001b[0;32mwith\u001b[0m \u001b[0mopen\u001b[0m\u001b[0;34m(\u001b[0m\u001b[0mfname\u001b[0m\u001b[0;34m)\u001b[0m \u001b[0;32mas\u001b[0m \u001b[0mf\u001b[0m\u001b[0;34m:\u001b[0m\u001b[0;34m\u001b[0m\u001b[0m\n\u001b[0m\u001b[1;32m      5\u001b[0m         \u001b[0;32mfor\u001b[0m \u001b[0mline\u001b[0m \u001b[0;32min\u001b[0m \u001b[0mf\u001b[0m\u001b[0;34m:\u001b[0m\u001b[0;34m\u001b[0m\u001b[0m\n\u001b[1;32m      6\u001b[0m             \u001b[0mtks\u001b[0m \u001b[0;34m=\u001b[0m \u001b[0mline\u001b[0m\u001b[0;34m.\u001b[0m\u001b[0mstrip\u001b[0m\u001b[0;34m(\u001b[0m\u001b[0;34m)\u001b[0m\u001b[0;34m.\u001b[0m\u001b[0msplit\u001b[0m\u001b[0;34m(\u001b[0m\u001b[0;34m'\\t'\u001b[0m\u001b[0;34m)\u001b[0m\u001b[0;34m\u001b[0m\u001b[0m\n",
      "\u001b[0;31mFileNotFoundError\u001b[0m: [Errno 2] No such file or directory: '/home/ubuntu/mxnet-the-straight-dope/incubator-mxnet/example/recommenders/ml-100k/u.data'"
     ]
    }
   ],
   "source": [
    "def max_id(fname):\n",
    "    mu = 0\n",
    "    mi = 0\n",
    "    with open(fname) as f:\n",
    "        for line in f:\n",
    "            tks = line.strip().split('\\t')\n",
    "            if len(tks) != 4:\n",
    "                continue\n",
    "            mu = max(mu, int(tks[0]))\n",
    "            mi = max(mi, int(tks[1]))\n",
    "    return mu + 1, mi + 1\n",
    "max_users, max_items = max_id(data_path + 'u.data')"
   ]
  },
  {
   "cell_type": "code",
   "execution_count": 73,
   "metadata": {},
   "outputs": [],
   "source": [
    "train_df = pd.read_csv(data_path+'u1.base', header=None, sep='\\t')\n",
    "test_df = pd.read_csv(data_path+'u1.test', header=None, sep='\\t')\n",
    "\n",
    "train_data = nd.array(train_df[[0,1]].values, dtype=np.float32)\n",
    "train_label = nd.array(train_df[2].values, dtype=np.float32)\n",
    "\n",
    "test_data = nd.array(test_df[[0,1]].values, dtype=np.float32)\n",
    "test_label = nd.array(test_df[2].values, dtype=np.float32)"
   ]
  },
  {
   "cell_type": "code",
   "execution_count": 74,
   "metadata": {},
   "outputs": [],
   "source": [
    "class SparseMatrixDataset(gluon.data.Dataset):\n",
    "    def __init__(self, data, label):\n",
    "        assert data.shape[0] == len(label)\n",
    "        self.data = data\n",
    "        self.label = label\n",
    "        if isinstance(label, ndarray.NDArray) and len(label.shape) == 1:\n",
    "            self._label = label.asnumpy()\n",
    "        else:\n",
    "            self._label = label       \n",
    "        \n",
    "    def __getitem__(self, idx):\n",
    "        return self.data[idx, 0], self.data[idx, 1], self.label[idx]\n",
    "    \n",
    "    def __len__(self):\n",
    "        return self.data.shape[0]\n",
    "        "
   ]
  },
  {
   "cell_type": "code",
   "execution_count": 75,
   "metadata": {},
   "outputs": [],
   "source": [
    "class MFBlock(gluon.Block):\n",
    "    def __init__(self, max_users, max_items, num_emb, dropout_p=0.5):\n",
    "        super(MFBlock, self).__init__()\n",
    "        \n",
    "        self.max_users = max_users\n",
    "        self.max_items = max_items\n",
    "        self.dropout_p = dropout_p\n",
    "        self.num_emb = num_emb\n",
    "        \n",
    "        with self.name_scope():\n",
    "            self.user_embeddings = gluon.nn.Embedding(max_users, num_emb)\n",
    "            self.item_embeddings = gluon.nn.Embedding(max_items, num_emb)\n",
    "            self.dropout = gluon.nn.Dropout(dropout_p)\n",
    "            \n",
    "    def forward(self, users, items):\n",
    "        a = self.user_embeddings(users)\n",
    "        b = self.item_embeddings(items)\n",
    "        predictions = self.dropout(a) * self.dropout(b)      \n",
    "        predictions = nd.sum(predictions, axis=1)\n",
    "        return predictions\n",
    "\n",
    "        "
   ]
  },
  {
   "cell_type": "code",
   "execution_count": 76,
   "metadata": {},
   "outputs": [
    {
     "data": {
      "text/plain": [
       "mfblock4_ (\n",
       "  Parameter mfblock4_embedding0_weight (shape=(944, 64), dtype=<class 'numpy.float32'>)\n",
       "  Parameter mfblock4_embedding1_weight (shape=(1683, 64), dtype=<class 'numpy.float32'>)\n",
       ")"
      ]
     },
     "execution_count": 76,
     "metadata": {},
     "output_type": "execute_result"
    }
   ],
   "source": [
    "net = MFBlock(max_users=max_users, max_items=max_items, num_emb=num_emb, dropout_p=0.)\n",
    "net.collect_params()"
   ]
  },
  {
   "cell_type": "code",
   "execution_count": 77,
   "metadata": {},
   "outputs": [],
   "source": [
    "loss_function = gluon.loss.L2Loss()"
   ]
  },
  {
   "cell_type": "code",
   "execution_count": 78,
   "metadata": {},
   "outputs": [],
   "source": [
    "net.collect_params().initialize(mx.init.Xavier(magnitude=2.24), ctx=ctx, force_reinit=True)"
   ]
  },
  {
   "cell_type": "code",
   "execution_count": 79,
   "metadata": {},
   "outputs": [],
   "source": [
    "trainer = gluon.Trainer(net.collect_params(), 'sgd',\n",
    "                        {'learning_rate': lr, 'wd': wd, 'momentum': 0.9})"
   ]
  },
  {
   "cell_type": "code",
   "execution_count": 80,
   "metadata": {},
   "outputs": [],
   "source": [
    "train_data_iter = gluon.data.DataLoader(SparseMatrixDataset(train_data, train_label), \n",
    "                                        shuffle=True, batch_size=batch_size)\n",
    "test_data_iter = gluon.data.DataLoader(SparseMatrixDataset(test_data, test_label),\n",
    "                                          shuffle=True, batch_size=batch_size)"
   ]
  },
  {
   "cell_type": "code",
   "execution_count": 81,
   "metadata": {},
   "outputs": [],
   "source": [
    "def eval_net(data, net):\n",
    "    acc = mx.metric.RMSE()\n",
    "    for i, (user, item, label) in enumerate(data):\n",
    "        user = user.as_in_context(ctx).reshape((batch_size,))\n",
    "        item = item.as_in_context(ctx).reshape((batch_size,))\n",
    "        label = label.as_in_context(ctx).reshape((batch_size,))\n",
    "        predictions = net(user, item)\n",
    "        loss = loss_function(predictions, label)\n",
    "        acc.update(preds=predictions, labels=label)\n",
    "    return acc.get()[1]"
   ]
  },
  {
   "cell_type": "code",
   "execution_count": 58,
   "metadata": {},
   "outputs": [
    {
     "data": {
      "text/plain": [
       "3.5359177671939133"
      ]
     },
     "execution_count": 58,
     "metadata": {},
     "output_type": "execute_result"
    }
   ],
   "source": [
    "eval_net(test_data_iter, net)\n"
   ]
  },
  {
   "cell_type": "code",
   "execution_count": 101,
   "metadata": {},
   "outputs": [],
   "source": [
    "epochs = 1\n",
    "#smoothing_constant = 10\n",
    "\n",
    "def train(data_iter, net):\n",
    "    a = []\n",
    "    b = []\n",
    "    c = []\n",
    "    d = []\n",
    "    for e in range(epochs):\n",
    "        print(\"epoch: {}\".format(e))\n",
    "        for i, (user, item, label) in enumerate(train_data_iter):\n",
    "            user = user.as_in_context(ctx).reshape((batch_size,))\n",
    "            item = item.as_in_context(ctx).reshape((batch_size,))\n",
    "            label = label.as_in_context(ctx).reshape((batch_size,))\n",
    "            with mx.autograd.record():\n",
    "                output = net(user, item)               \n",
    "                loss = loss_function(output, label)\n",
    "                loss.backward()\n",
    "            net.collect_params().values()\n",
    "            trainer.step(batch_size)\n",
    "        a = eval_net(test_data_iter, net)\n",
    "        b = eval_net(train_data_iter, net)\n",
    "        print(\"EPOCH {}: RMSE ON TRAINING and TEST: {}. {}\".format(e,a,b))\n",
    "        \n",
    "    return a, b"
   ]
  },
  {
   "cell_type": "code",
   "execution_count": 102,
   "metadata": {},
   "outputs": [
    {
     "name": "stdout",
     "output_type": "stream",
     "text": [
      "epoch: 0\n",
      "EPOCH 0: RMSE ON TRAINING and TEST: 0.7893240341067315. 0.7341532736964523\n"
     ]
    }
   ],
   "source": [
    "(a,b) = train(train_data_iter, net)"
   ]
  },
  {
   "cell_type": "code",
   "execution_count": 103,
   "metadata": {},
   "outputs": [
    {
     "data": {
      "text/plain": [
       "(0.78932403410673146, 0.73415327369645234)"
      ]
     },
     "execution_count": 103,
     "metadata": {},
     "output_type": "execute_result"
    }
   ],
   "source": [
    "(a,b)"
   ]
  },
  {
   "cell_type": "code",
   "execution_count": null,
   "metadata": {},
   "outputs": [],
   "source": []
  }
 ],
 "metadata": {
  "kernelspec": {
   "display_name": "Python 3",
   "language": "python",
   "name": "python3"
  },
  "language_info": {
   "codemirror_mode": {
    "name": "ipython",
    "version": 3
   },
   "file_extension": ".py",
   "mimetype": "text/x-python",
   "name": "python",
   "nbconvert_exporter": "python",
   "pygments_lexer": "ipython3",
   "version": "3.6.6"
  }
 },
 "nbformat": 4,
 "nbformat_minor": 2
}
