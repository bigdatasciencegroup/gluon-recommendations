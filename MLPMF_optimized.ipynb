{
 "cells": [
  {
   "cell_type": "markdown",
   "metadata": {
    "slideshow": {
     "slide_type": "slide"
    }
   },
   "source": [
    "# Acknowledgements\n",
    "code in part inspired by: https://github.com/EthanRosenthal/torchmf"
   ]
  },
  {
   "cell_type": "markdown",
   "metadata": {
    "slideshow": {
     "slide_type": "slide"
    }
   },
   "source": [
    "# Imports"
   ]
  },
  {
   "cell_type": "code",
   "execution_count": 33,
   "metadata": {
    "slideshow": {
     "slide_type": "fragment"
    }
   },
   "outputs": [],
   "source": [
    "import os\n",
    "import mxnet as mx\n",
    "from mxnet import gluon, nd, ndarray\n",
    "\n",
    "import pandas as pd\n",
    "import numpy as np\n",
    "import multiprocessing"
   ]
  },
  {
   "cell_type": "markdown",
   "metadata": {
    "slideshow": {
     "slide_type": "slide"
    }
   },
   "source": [
    "# Parameters"
   ]
  },
  {
   "cell_type": "code",
   "execution_count": 34,
   "metadata": {
    "slideshow": {
     "slide_type": "fragment"
    }
   },
   "outputs": [],
   "source": [
    "data_path = '/tmp/ml-100k/'\n",
    "prefix='ml-100k'\n",
    "num_emb = 64\n",
    "# Improvement 1: Each record is only 3 float32. Batch size can be increased up to the size of the \n",
    "# dataset and still take only 1.5 Gb of GPU memory including the model itself\n",
    "batch_size = 80000\n",
    "# ctx = mx.gpu()\n",
    "ctx = mx.cpu()"
   ]
  },
  {
   "cell_type": "markdown",
   "metadata": {
    "slideshow": {
     "slide_type": "slide"
    }
   },
   "source": [
    "# Download and Unpack Dataset"
   ]
  },
  {
   "cell_type": "code",
   "execution_count": 35,
   "metadata": {
    "slideshow": {
     "slide_type": "subslide"
    }
   },
   "outputs": [
    {
     "name": "stdout",
     "output_type": "stream",
     "text": [
      "unzip /tmp/ml-100k/ml-100k.zip -d /tmp/ml-100k/\n"
     ]
    }
   ],
   "source": [
    "def download_ml_data(prefix, os_path):\n",
    "    if not os.path.exists(os_path+\"%s.zip\" % prefix):\n",
    "        print(\"Downloading MovieLens data: %s\" % prefix)\n",
    "        os.system(\"wget http://files.grouplens.org/datasets/movielens/{}.zip -P {}\".format(prefix, data_path))\n",
    "    print(\"unzip {}{}.zip -d {}\".format(data_path,prefix, data_path))\n",
    "    os.system(\"unzip {}{}.zip -d {}\".format(data_path,prefix, data_path))   \n",
    "\n",
    "\n",
    "download_ml_data(prefix=prefix, os_path=data_path)"
   ]
  },
  {
   "cell_type": "markdown",
   "metadata": {
    "slideshow": {
     "slide_type": "slide"
    }
   },
   "source": [
    "# Finding Max UserID and Max ItemID"
   ]
  },
  {
   "cell_type": "code",
   "execution_count": 36,
   "metadata": {
    "slideshow": {
     "slide_type": "fragment"
    }
   },
   "outputs": [
    {
     "data": {
      "text/plain": [
       "(944, 1683)"
      ]
     },
     "execution_count": 36,
     "metadata": {},
     "output_type": "execute_result"
    }
   ],
   "source": [
    "def max_id(fname):\n",
    "    mu = 0\n",
    "    mi = 0\n",
    "    with open(fname) as f:\n",
    "        for line in f:\n",
    "            tks = line.strip().split('\\t')\n",
    "            if len(tks) != 4:\n",
    "                continue\n",
    "            mu = max(mu, int(tks[0]))\n",
    "            mi = max(mi, int(tks[1]))\n",
    "    return mu + 1, mi + 1\n",
    "max_users, max_items = max_id(data_path + prefix  +'/u.data')\n",
    "(max_users, max_items)"
   ]
  },
  {
   "cell_type": "markdown",
   "metadata": {
    "slideshow": {
     "slide_type": "slide"
    }
   },
   "source": [
    "# Converting Data to NDArray"
   ]
  },
  {
   "cell_type": "code",
   "execution_count": 37,
   "metadata": {
    "slideshow": {
     "slide_type": "fragment"
    }
   },
   "outputs": [
    {
     "name": "stdout",
     "output_type": "stream",
     "text": [
      "   0  1  2          3\n",
      "0  1  1  5  874965758\n",
      "1  1  2  3  876893171\n",
      "2  1  3  4  878542960\n",
      "3  1  4  3  876893119\n",
      "4  1  5  3  889751712\n"
     ]
    },
    {
     "data": {
      "text/plain": [
       "(\n",
       " [[1. 1.]\n",
       "  [1. 2.]\n",
       "  [1. 3.]\n",
       "  [1. 4.]\n",
       "  [1. 5.]]\n",
       " <NDArray 5x2 @cpu(0)>, \n",
       " [5. 3. 4. 3. 3.]\n",
       " <NDArray 5 @cpu(0)>)"
      ]
     },
     "execution_count": 37,
     "metadata": {},
     "output_type": "execute_result"
    }
   ],
   "source": [
    "train_df = pd.read_csv(data_path + prefix + '/u1.base', header=None, sep='\\t')\n",
    "test_df = pd.read_csv(data_path + prefix + '/u1.test', header=None, sep='\\t')\n",
    "print(train_df[0:5])\n",
    "train_data = nd.array(train_df[[0,1]].values, dtype=np.float32)\n",
    "train_label = nd.array(train_df[2].values, dtype=np.float32)\n",
    "\n",
    "test_data = nd.array(test_df[[0,1]].values, dtype=np.float32)\n",
    "test_label = nd.array(test_df[2].values, dtype=np.float32)\n",
    "(train_data[0:5], train_label[0:5])"
   ]
  },
  {
   "cell_type": "markdown",
   "metadata": {
    "slideshow": {
     "slide_type": "slide"
    }
   },
   "source": [
    "# Creating Dataset"
   ]
  },
  {
   "cell_type": "code",
   "execution_count": 38,
   "metadata": {},
   "outputs": [],
   "source": [
    "# Improvement 2: Dataset inherits from ArrayDataset and ready for being loaded \n",
    "class SparseMatrixDataset(gluon.data.ArrayDataset):\n",
    "        def __init__(self, data, label):\n",
    "            records = []\n",
    "\n",
    "            for i, (data, label) in enumerate(zip(train_data, train_label)):\n",
    "                records.append((data[0], data[1], label))\n",
    "                \n",
    "            super(SparseMatrixDataset, self).__init__(records)"
   ]
  },
  {
   "cell_type": "markdown",
   "metadata": {
    "slideshow": {
     "slide_type": "slide"
    }
   },
   "source": [
    "# Defining the Network"
   ]
  },
  {
   "cell_type": "code",
   "execution_count": 39,
   "metadata": {
    "slideshow": {
     "slide_type": "fragment"
    }
   },
   "outputs": [],
   "source": [
    "class MFBlock(gluon.HybridBlock):\n",
    "    def __init__(self, max_users, max_items, num_emb, dropout_p=0.5):\n",
    "        super(MFBlock, self).__init__()\n",
    "        \n",
    "        self.max_users = max_users\n",
    "        self.max_items = max_items\n",
    "        self.dropout_p = dropout_p\n",
    "        self.num_emb = num_emb\n",
    "        \n",
    "        with self.name_scope():\n",
    "            self.user_embeddings = gluon.nn.Embedding(max_users, num_emb)\n",
    "            self.item_embeddings = gluon.nn.Embedding(max_items, num_emb)\n",
    "            self.dropout = gluon.nn.Dropout(dropout_p)\n",
    "            self.dense = gluon.nn.Dense(num_emb, activation='relu')\n",
    "            \n",
    "    def hybrid_forward(self, F, users, items):\n",
    "        a = self.user_embeddings(users)\n",
    "        a = self.dense(a)\n",
    "        \n",
    "        b = self.item_embeddings(items)\n",
    "        b = self.dense(b)\n",
    "\n",
    "        predictions = self.dropout(a) * self.dropout(b)      \n",
    "        predictions = F.sum(predictions, axis=1)\n",
    "        return predictions\n",
    "\n",
    "        "
   ]
  },
  {
   "cell_type": "markdown",
   "metadata": {
    "slideshow": {
     "slide_type": "slide"
    }
   },
   "source": [
    "# Creating Network"
   ]
  },
  {
   "cell_type": "code",
   "execution_count": 40,
   "metadata": {},
   "outputs": [
    {
     "data": {
      "text/plain": [
       "mfblock4_ (\n",
       "  Parameter mfblock4_embedding0_weight (shape=(944, 64), dtype=float32)\n",
       "  Parameter mfblock4_embedding1_weight (shape=(1683, 64), dtype=float32)\n",
       "  Parameter mfblock4_dense0_weight (shape=(64, 0), dtype=float32)\n",
       "  Parameter mfblock4_dense0_bias (shape=(64,), dtype=float32)\n",
       ")"
      ]
     },
     "execution_count": 40,
     "metadata": {},
     "output_type": "execute_result"
    }
   ],
   "source": [
    "net = MFBlock(max_users=max_users, max_items=max_items, num_emb=num_emb, dropout_p=0.)\n",
    "net.collect_params()"
   ]
  },
  {
   "cell_type": "code",
   "execution_count": 41,
   "metadata": {},
   "outputs": [
    {
     "data": {
      "text/plain": [
       "<Symbol test>"
      ]
     },
     "execution_count": 41,
     "metadata": {},
     "output_type": "execute_result"
    }
   ],
   "source": [
    "# Improvement 3: Use new batch_size\n",
    "mx.sym.var(name='test', shape=(batch_size,2))"
   ]
  },
  {
   "cell_type": "code",
   "execution_count": 42,
   "metadata": {},
   "outputs": [],
   "source": [
    "input_sym1 = mx.sym.var('user')\n",
    "input_sym2 = mx.sym.var('item')"
   ]
  },
  {
   "cell_type": "code",
   "execution_count": 43,
   "metadata": {},
   "outputs": [],
   "source": [
    "output_sym = net(input_sym1, input_sym2)"
   ]
  },
  {
   "cell_type": "code",
   "execution_count": 44,
   "metadata": {},
   "outputs": [
    {
     "name": "stderr",
     "output_type": "stream",
     "text": [
      "/Users/sssokolo/anaconda3/lib/python3.6/site-packages/mxnet/visualization.py:292: RuntimeWarning: There are multiple variables with the same name in your graph, this may result in cyclic graph. Repeated names: mfblock4_dropout0_fwd,mfblock4_dense0_fwd,mfblock4_dense0_relu_fwd\n",
      "  warnings.warn(warning_message, RuntimeWarning)\n"
     ]
    },
    {
     "data": {
      "image/svg+xml": [
       "<?xml version=\"1.0\" encoding=\"UTF-8\" standalone=\"no\"?>\n",
       "<!DOCTYPE svg PUBLIC \"-//W3C//DTD SVG 1.1//EN\"\n",
       " \"http://www.w3.org/Graphics/SVG/1.1/DTD/svg11.dtd\">\n",
       "<!-- Generated by graphviz version 2.40.1 (20161225.0304)\n",
       " -->\n",
       "<!-- Title: plot Pages: 1 -->\n",
       "<svg width=\"214pt\" height=\"630pt\"\n",
       " viewBox=\"0.00 0.00 214.00 630.00\" xmlns=\"http://www.w3.org/2000/svg\" xmlns:xlink=\"http://www.w3.org/1999/xlink\">\n",
       "<g id=\"graph0\" class=\"graph\" transform=\"scale(1 1) rotate(0) translate(4 626)\">\n",
       "<title>plot</title>\n",
       "<polygon fill=\"#ffffff\" stroke=\"transparent\" points=\"-4,4 -4,-626 210,-626 210,4 -4,4\"/>\n",
       "<!-- user -->\n",
       "<g id=\"node1\" class=\"node\">\n",
       "<title>user</title>\n",
       "<ellipse fill=\"#8dd3c7\" stroke=\"#000000\" cx=\"47\" cy=\"-29\" rx=\"47\" ry=\"29\"/>\n",
       "<text text-anchor=\"middle\" x=\"47\" y=\"-24.8\" font-family=\"Times,serif\" font-size=\"14.00\" fill=\"#000000\">user</text>\n",
       "</g>\n",
       "<!-- mfblock4_embedding0_fwd -->\n",
       "<g id=\"node2\" class=\"node\">\n",
       "<title>mfblock4_embedding0_fwd</title>\n",
       "<polygon fill=\"#fccde5\" stroke=\"#000000\" points=\"94,-152 0,-152 0,-94 94,-94 94,-152\"/>\n",
       "<text text-anchor=\"middle\" x=\"47\" y=\"-118.8\" font-family=\"Times,serif\" font-size=\"14.00\" fill=\"#000000\">mfblock4_embedding0_fwd</text>\n",
       "</g>\n",
       "<!-- mfblock4_embedding0_fwd&#45;&gt;user -->\n",
       "<g id=\"edge1\" class=\"edge\">\n",
       "<title>mfblock4_embedding0_fwd&#45;&gt;user</title>\n",
       "<path fill=\"none\" stroke=\"#000000\" d=\"M47,-83.6321C47,-75.1148 47,-66.2539 47,-58.2088\"/>\n",
       "<polygon fill=\"#000000\" stroke=\"#000000\" points=\"47,-93.7731 42.5001,-83.773 47,-88.7731 47.0001,-83.7731 47.0001,-83.7731 47.0001,-83.7731 47,-88.7731 51.5001,-83.7731 47,-93.7731 47,-93.7731\"/>\n",
       "</g>\n",
       "<!-- mfblock4_dense0_fwd -->\n",
       "<g id=\"node3\" class=\"node\">\n",
       "<title>mfblock4_dense0_fwd</title>\n",
       "<polygon fill=\"#fb8072\" stroke=\"#000000\" points=\"150,-246 56,-246 56,-188 150,-188 150,-246\"/>\n",
       "<text text-anchor=\"middle\" x=\"103\" y=\"-219.8\" font-family=\"Times,serif\" font-size=\"14.00\" fill=\"#000000\">FullyConnected</text>\n",
       "<text text-anchor=\"middle\" x=\"103\" y=\"-205.8\" font-family=\"Times,serif\" font-size=\"14.00\" fill=\"#000000\">64</text>\n",
       "</g>\n",
       "<!-- mfblock4_dense0_fwd&#45;&gt;mfblock4_embedding0_fwd -->\n",
       "<g id=\"edge2\" class=\"edge\">\n",
       "<title>mfblock4_dense0_fwd&#45;&gt;mfblock4_embedding0_fwd</title>\n",
       "<path fill=\"none\" stroke=\"#000000\" d=\"M80.3812,-179.0328C75.0542,-170.091 69.4571,-160.6959 64.401,-152.2088\"/>\n",
       "<polygon fill=\"#000000\" stroke=\"#000000\" points=\"85.5882,-187.7731 76.6042,-181.4852 83.0292,-183.4776 80.4701,-179.1821 80.4701,-179.1821 80.4701,-179.1821 83.0292,-183.4776 84.3361,-176.8789 85.5882,-187.7731 85.5882,-187.7731\"/>\n",
       "</g>\n",
       "<!-- mfblock4_embedding1_fwd -->\n",
       "<g id=\"node7\" class=\"node\">\n",
       "<title>mfblock4_embedding1_fwd</title>\n",
       "<polygon fill=\"#fccde5\" stroke=\"#000000\" points=\"206,-152 112,-152 112,-94 206,-94 206,-152\"/>\n",
       "<text text-anchor=\"middle\" x=\"159\" y=\"-118.8\" font-family=\"Times,serif\" font-size=\"14.00\" fill=\"#000000\">mfblock4_embedding1_fwd</text>\n",
       "</g>\n",
       "<!-- mfblock4_dense0_fwd&#45;&gt;mfblock4_embedding1_fwd -->\n",
       "<g id=\"edge6\" class=\"edge\">\n",
       "<title>mfblock4_dense0_fwd&#45;&gt;mfblock4_embedding1_fwd</title>\n",
       "<path fill=\"none\" stroke=\"#000000\" d=\"M125.6188,-179.0328C130.9458,-170.091 136.5429,-160.6959 141.599,-152.2088\"/>\n",
       "<polygon fill=\"#000000\" stroke=\"#000000\" points=\"120.4118,-187.7731 121.6639,-176.8789 122.9708,-183.4776 125.5299,-179.1821 125.5299,-179.1821 125.5299,-179.1821 122.9708,-183.4776 129.3958,-181.4852 120.4118,-187.7731 120.4118,-187.7731\"/>\n",
       "</g>\n",
       "<!-- mfblock4_dense0_relu_fwd -->\n",
       "<g id=\"node4\" class=\"node\">\n",
       "<title>mfblock4_dense0_relu_fwd</title>\n",
       "<polygon fill=\"#ffffb3\" stroke=\"#000000\" points=\"150,-340 56,-340 56,-282 150,-282 150,-340\"/>\n",
       "<text text-anchor=\"middle\" x=\"103\" y=\"-313.8\" font-family=\"Times,serif\" font-size=\"14.00\" fill=\"#000000\">Activation</text>\n",
       "<text text-anchor=\"middle\" x=\"103\" y=\"-299.8\" font-family=\"Times,serif\" font-size=\"14.00\" fill=\"#000000\">relu</text>\n",
       "</g>\n",
       "<!-- mfblock4_dense0_relu_fwd&#45;&gt;mfblock4_dense0_fwd -->\n",
       "<g id=\"edge3\" class=\"edge\">\n",
       "<title>mfblock4_dense0_relu_fwd&#45;&gt;mfblock4_dense0_fwd</title>\n",
       "<path fill=\"none\" stroke=\"#000000\" d=\"M96.3297,-271.6321C96.1504,-263.1148 96.2736,-254.2539 96.6996,-246.2088\"/>\n",
       "<polygon fill=\"#000000\" stroke=\"#000000\" points=\"96.6987,-281.7731 91.838,-271.9433 96.5168,-276.7764 96.335,-271.7797 96.335,-271.7797 96.335,-271.7797 96.5168,-276.7764 100.832,-271.6161 96.6987,-281.7731 96.6987,-281.7731\"/>\n",
       "</g>\n",
       "<!-- mfblock4_dense0_relu_fwd&#45;&gt;mfblock4_dense0_fwd -->\n",
       "<g id=\"edge7\" class=\"edge\">\n",
       "<title>mfblock4_dense0_relu_fwd&#45;&gt;mfblock4_dense0_fwd</title>\n",
       "<path fill=\"none\" stroke=\"#000000\" d=\"M109.6703,-271.6321C109.8496,-263.1148 109.7264,-254.2539 109.3004,-246.2088\"/>\n",
       "<polygon fill=\"#000000\" stroke=\"#000000\" points=\"109.3013,-281.7731 105.168,-271.6161 109.4832,-276.7764 109.665,-271.7797 109.665,-271.7797 109.665,-271.7797 109.4832,-276.7764 114.162,-271.9433 109.3013,-281.7731 109.3013,-281.7731\"/>\n",
       "</g>\n",
       "<!-- mfblock4_dropout0_fwd -->\n",
       "<g id=\"node5\" class=\"node\">\n",
       "<title>mfblock4_dropout0_fwd</title>\n",
       "<polygon fill=\"#fccde5\" stroke=\"#000000\" points=\"150,-434 56,-434 56,-376 150,-376 150,-434\"/>\n",
       "<text text-anchor=\"middle\" x=\"103\" y=\"-400.8\" font-family=\"Times,serif\" font-size=\"14.00\" fill=\"#000000\">mfblock4_dropout0_fwd</text>\n",
       "</g>\n",
       "<!-- mfblock4_dropout0_fwd&#45;&gt;mfblock4_dense0_relu_fwd -->\n",
       "<g id=\"edge4\" class=\"edge\">\n",
       "<title>mfblock4_dropout0_fwd&#45;&gt;mfblock4_dense0_relu_fwd</title>\n",
       "<path fill=\"none\" stroke=\"#000000\" d=\"M96.3297,-365.6321C96.1504,-357.1148 96.2736,-348.2539 96.6996,-340.2088\"/>\n",
       "<polygon fill=\"#000000\" stroke=\"#000000\" points=\"96.6987,-375.7731 91.838,-365.9433 96.5168,-370.7764 96.335,-365.7797 96.335,-365.7797 96.335,-365.7797 96.5168,-370.7764 100.832,-365.6161 96.6987,-375.7731 96.6987,-375.7731\"/>\n",
       "</g>\n",
       "<!-- mfblock4_dropout0_fwd&#45;&gt;mfblock4_dense0_relu_fwd -->\n",
       "<g id=\"edge8\" class=\"edge\">\n",
       "<title>mfblock4_dropout0_fwd&#45;&gt;mfblock4_dense0_relu_fwd</title>\n",
       "<path fill=\"none\" stroke=\"#000000\" d=\"M109.6703,-365.6321C109.8496,-357.1148 109.7264,-348.2539 109.3004,-340.2088\"/>\n",
       "<polygon fill=\"#000000\" stroke=\"#000000\" points=\"109.3013,-375.7731 105.168,-365.6161 109.4832,-370.7764 109.665,-365.7797 109.665,-365.7797 109.665,-365.7797 109.4832,-370.7764 114.162,-365.9433 109.3013,-375.7731 109.3013,-375.7731\"/>\n",
       "</g>\n",
       "<!-- item -->\n",
       "<g id=\"node6\" class=\"node\">\n",
       "<title>item</title>\n",
       "<ellipse fill=\"#8dd3c7\" stroke=\"#000000\" cx=\"159\" cy=\"-29\" rx=\"47\" ry=\"29\"/>\n",
       "<text text-anchor=\"middle\" x=\"159\" y=\"-24.8\" font-family=\"Times,serif\" font-size=\"14.00\" fill=\"#000000\">item</text>\n",
       "</g>\n",
       "<!-- mfblock4_embedding1_fwd&#45;&gt;item -->\n",
       "<g id=\"edge5\" class=\"edge\">\n",
       "<title>mfblock4_embedding1_fwd&#45;&gt;item</title>\n",
       "<path fill=\"none\" stroke=\"#000000\" d=\"M159,-83.6321C159,-75.1148 159,-66.2539 159,-58.2088\"/>\n",
       "<polygon fill=\"#000000\" stroke=\"#000000\" points=\"159,-93.7731 154.5001,-83.773 159,-88.7731 159.0001,-83.7731 159.0001,-83.7731 159.0001,-83.7731 159,-88.7731 163.5001,-83.7731 159,-93.7731 159,-93.7731\"/>\n",
       "</g>\n",
       "<!-- mfblock4__mul0 -->\n",
       "<g id=\"node8\" class=\"node\">\n",
       "<title>mfblock4__mul0</title>\n",
       "<polygon fill=\"#fccde5\" stroke=\"#000000\" points=\"150,-528 56,-528 56,-470 150,-470 150,-528\"/>\n",
       "<text text-anchor=\"middle\" x=\"103\" y=\"-494.8\" font-family=\"Times,serif\" font-size=\"14.00\" fill=\"#000000\">mfblock4__mul0</text>\n",
       "</g>\n",
       "<!-- mfblock4__mul0&#45;&gt;mfblock4_dropout0_fwd -->\n",
       "<g id=\"edge9\" class=\"edge\">\n",
       "<title>mfblock4__mul0&#45;&gt;mfblock4_dropout0_fwd</title>\n",
       "<path fill=\"none\" stroke=\"#000000\" d=\"M96.3297,-459.6321C96.1504,-451.1148 96.2736,-442.2539 96.6996,-434.2088\"/>\n",
       "<polygon fill=\"#000000\" stroke=\"#000000\" points=\"96.6987,-469.7731 91.838,-459.9433 96.5168,-464.7764 96.335,-459.7797 96.335,-459.7797 96.335,-459.7797 96.5168,-464.7764 100.832,-459.6161 96.6987,-469.7731 96.6987,-469.7731\"/>\n",
       "</g>\n",
       "<!-- mfblock4__mul0&#45;&gt;mfblock4_dropout0_fwd -->\n",
       "<g id=\"edge10\" class=\"edge\">\n",
       "<title>mfblock4__mul0&#45;&gt;mfblock4_dropout0_fwd</title>\n",
       "<path fill=\"none\" stroke=\"#000000\" d=\"M109.6703,-459.6321C109.8496,-451.1148 109.7264,-442.2539 109.3004,-434.2088\"/>\n",
       "<polygon fill=\"#000000\" stroke=\"#000000\" points=\"109.3013,-469.7731 105.168,-459.6161 109.4832,-464.7764 109.665,-459.7797 109.665,-459.7797 109.665,-459.7797 109.4832,-464.7764 114.162,-459.9433 109.3013,-469.7731 109.3013,-469.7731\"/>\n",
       "</g>\n",
       "<!-- mfblock4_sum0 -->\n",
       "<g id=\"node9\" class=\"node\">\n",
       "<title>mfblock4_sum0</title>\n",
       "<polygon fill=\"#fccde5\" stroke=\"#000000\" points=\"150,-622 56,-622 56,-564 150,-564 150,-622\"/>\n",
       "<text text-anchor=\"middle\" x=\"103\" y=\"-588.8\" font-family=\"Times,serif\" font-size=\"14.00\" fill=\"#000000\">mfblock4_sum0</text>\n",
       "</g>\n",
       "<!-- mfblock4_sum0&#45;&gt;mfblock4__mul0 -->\n",
       "<g id=\"edge11\" class=\"edge\">\n",
       "<title>mfblock4_sum0&#45;&gt;mfblock4__mul0</title>\n",
       "<path fill=\"none\" stroke=\"#000000\" d=\"M103,-553.6321C103,-545.1148 103,-536.2539 103,-528.2088\"/>\n",
       "<polygon fill=\"#000000\" stroke=\"#000000\" points=\"103,-563.7731 98.5001,-553.773 103,-558.7731 103.0001,-553.7731 103.0001,-553.7731 103.0001,-553.7731 103,-558.7731 107.5001,-553.7731 103,-563.7731 103,-563.7731\"/>\n",
       "</g>\n",
       "</g>\n",
       "</svg>\n"
      ],
      "text/plain": [
       "<graphviz.dot.Digraph at 0x13053d7b8>"
      ]
     },
     "execution_count": 44,
     "metadata": {},
     "output_type": "execute_result"
    }
   ],
   "source": [
    "mx.viz.plot_network(output_sym, )"
   ]
  },
  {
   "cell_type": "code",
   "execution_count": 45,
   "metadata": {
    "slideshow": {
     "slide_type": "fragment"
    }
   },
   "outputs": [
    {
     "name": "stdout",
     "output_type": "stream",
     "text": [
      "--------------------------------------------------------------------------------\n",
      "        Layer (type)                                Output Shape         Param #\n",
      "================================================================================\n",
      "               Input                      (80000, 1), (80000, 1)               0\n",
      "         Embedding-1                              (80000, 1, 64)           60416\n",
      "        Activation-2           <Symbol mfblock5_dense0_relu_fwd>               0\n",
      "        Activation-3                                 (80000, 64)               0\n",
      "             Dense-4                                 (80000, 64)            4160\n",
      "         Embedding-5                              (80000, 1, 64)          107712\n",
      "        Activation-6                                 (80000, 64)               0\n",
      "             Dense-7                                 (80000, 64)            4160\n",
      "           Dropout-8                                 (80000, 64)               0\n",
      "           Dropout-9                                 (80000, 64)               0\n",
      "          MFBlock-10                                    (80000,)               0\n",
      "================================================================================\n",
      "Parameters in forward computation graph, duplicate included\n",
      "   Total params: 176448\n",
      "   Trainable params: 176448\n",
      "   Non-trainable params: 0\n",
      "Shared params in forward computation graph: 4160\n",
      "Unique parameters in model: 172288\n",
      "--------------------------------------------------------------------------------\n"
     ]
    }
   ],
   "source": [
    "net = MFBlock(max_users=max_users, max_items=max_items, num_emb=num_emb, dropout_p=0.)\n",
    "net.initialize(mx.init.Xavier(magnitude=2.24), ctx=ctx, force_reinit=True)\n",
    "net.summary(mx.nd.random.uniform(shape=(batch_size, 1), ctx=ctx), mx.nd.random.uniform(shape=(batch_size, 1), ctx=ctx))\n",
    "\n",
    "# Improvement 4: Hybridize network\n",
    "net.hybridize(static_alloc=True)"
   ]
  },
  {
   "cell_type": "markdown",
   "metadata": {},
   "source": [
    "# Loss Function"
   ]
  },
  {
   "cell_type": "code",
   "execution_count": 46,
   "metadata": {
    "slideshow": {
     "slide_type": "fragment"
    }
   },
   "outputs": [],
   "source": [
    "loss_function = gluon.loss.L2Loss()"
   ]
  },
  {
   "cell_type": "markdown",
   "metadata": {},
   "source": [
    "# Optimizer"
   ]
  },
  {
   "cell_type": "code",
   "execution_count": 47,
   "metadata": {
    "slideshow": {
     "slide_type": "fragment"
    }
   },
   "outputs": [],
   "source": [
    "# Improvement 5: Use different optimizer\n",
    "trainer = gluon.Trainer(net.collect_params(), 'ftml', {'learning_rate': 0.03 })"
   ]
  },
  {
   "cell_type": "code",
   "execution_count": 48,
   "metadata": {
    "slideshow": {
     "slide_type": "fragment"
    }
   },
   "outputs": [],
   "source": [
    "train_dataset = SparseMatrixDataset(train_data, train_label)\n",
    "test_dataset = SparseMatrixDataset(test_data, test_label)\n",
    "\n",
    "# Improvement 6: Increase number of workers. Don't need to much though\n",
    "train_data_iter = gluon.data.DataLoader(train_dataset, \n",
    "                                        shuffle=True, batch_size=batch_size, num_workers=2)\n",
    "test_data_iter = gluon.data.DataLoader(test_dataset,\n",
    "                                          shuffle=True, batch_size=batch_size, num_workers=2)"
   ]
  },
  {
   "cell_type": "markdown",
   "metadata": {
    "slideshow": {
     "slide_type": "slide"
    }
   },
   "source": [
    "# Network Evaluator"
   ]
  },
  {
   "cell_type": "code",
   "execution_count": 49,
   "metadata": {
    "slideshow": {
     "slide_type": "fragment"
    }
   },
   "outputs": [],
   "source": [
    "def eval_net(data, net):\n",
    "    accs = [mx.metric.RMSE(), mx.metric.Accuracy()]\n",
    "    acc = mx.metric.CompositeEvalMetric()\n",
    "    \n",
    "    for i in accs:\n",
    "        acc.add(i)\n",
    "        \n",
    "    for i, (user, item, label) in enumerate(data):\n",
    "        user = user.as_in_context(ctx).reshape((user.shape[0],))\n",
    "        item = item.as_in_context(ctx).reshape((user.shape[0],))\n",
    "        label = label.as_in_context(ctx).reshape((user.shape[0],))\n",
    "        predictions = net(user, item)\n",
    "        acc.update(preds=predictions, labels=label)\n",
    "    return acc"
   ]
  },
  {
   "cell_type": "markdown",
   "metadata": {
    "slideshow": {
     "slide_type": "slide"
    }
   },
   "source": [
    "# Training"
   ]
  },
  {
   "cell_type": "code",
   "execution_count": 50,
   "metadata": {
    "slideshow": {
     "slide_type": "fragment"
    }
   },
   "outputs": [],
   "source": [
    "epochs = 30\n",
    "#smoothing_constant = 10\n",
    "\n",
    "def train(data_iter, net):\n",
    "    for e in range(epochs):\n",
    "        for i, (user, item, label) in enumerate(train_data_iter):\n",
    "            user = user.as_in_context(ctx).reshape((user.shape[0],))\n",
    "            item = item.as_in_context(ctx).reshape((user.shape[0],))\n",
    "            label = label.as_in_context(ctx).reshape((user.shape[0],))\n",
    "            \n",
    "            with mx.autograd.record():\n",
    "                output = net(user, item)               \n",
    "                loss = loss_function(output, label)\n",
    "            \n",
    "            loss.backward()\n",
    "            trainer.step(user.shape[0])\n",
    "            \n",
    "        print(\"EPOCH {}: RMSE ON TRAINING and TEST: {}. {}\".format(e,\n",
    "                                                                   eval_net(train_data_iter, net),\n",
    "                                                                   eval_net(test_data_iter, net)))\n",
    "    return \"end of training\""
   ]
  },
  {
   "cell_type": "code",
   "execution_count": null,
   "metadata": {
    "slideshow": {
     "slide_type": "fragment"
    }
   },
   "outputs": [],
   "source": [
    "train(train_data_iter, net)"
   ]
  }
 ],
 "metadata": {
  "celltoolbar": "Slideshow",
  "kernelspec": {
   "display_name": "Python 3",
   "language": "python",
   "name": "python3"
  },
  "language_info": {
   "codemirror_mode": {
    "name": "ipython",
    "version": 3
   },
   "file_extension": ".py",
   "mimetype": "text/x-python",
   "name": "python",
   "nbconvert_exporter": "python",
   "pygments_lexer": "ipython3",
   "version": "3.6.4"
  }
 },
 "nbformat": 4,
 "nbformat_minor": 2
}
